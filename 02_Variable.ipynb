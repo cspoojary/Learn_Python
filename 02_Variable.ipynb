{
 "cells": [
  {
   "cell_type": "markdown",
   "id": "f6a32b4a",
   "metadata": {},
   "source": [
    "Python Variables\n",
    "    >Variables are containers for storing data values.\n",
    "    >Python has no command for declaring a variable.\n",
    "    > A variable is created the moment you first assign a value to it."
   ]
  },
  {
   "cell_type": "code",
   "execution_count": 1,
   "id": "f490366a",
   "metadata": {},
   "outputs": [
    {
     "name": "stdout",
     "output_type": "stream",
     "text": [
      "5\n",
      "John\n"
     ]
    }
   ],
   "source": [
    "#Declaring Variable\n",
    "x = 5\n",
    "y = 'John'\n",
    "print(x)\n",
    "print(y)"
   ]
  },
  {
   "cell_type": "code",
   "execution_count": 2,
   "id": "6b52ea48",
   "metadata": {},
   "outputs": [
    {
     "data": {
      "text/plain": [
       "5"
      ]
     },
     "execution_count": 2,
     "metadata": {},
     "output_type": "execute_result"
    }
   ],
   "source": [
    "x #x is int "
   ]
  },
  {
   "cell_type": "code",
   "execution_count": null,
   "id": "a79da188",
   "metadata": {},
   "outputs": [
    {
     "name": "stdout",
     "output_type": "stream",
     "text": [
      "Sally\n"
     ]
    },
    {
     "data": {
      "text/plain": [
       "' \\nVariable do not need to be declared with any particular type, and can even change\\ntype afetr they have been set.\\n'"
      ]
     },
     "execution_count": 3,
     "metadata": {},
     "output_type": "execute_result"
    }
   ],
   "source": [
    "x=\"Sally\" # x is str \n",
    "print(x)\n",
    "\"\"\" \n",
    "Variable do not need to be declared with any particular type, and can even change\n",
    "type after they have been set.\n",
    "\"\"\""
   ]
  },
  {
   "cell_type": "markdown",
   "id": "115229ac",
   "metadata": {},
   "source": [
    "Casting = You can specify the data type of a variable."
   ]
  },
  {
   "cell_type": "code",
   "execution_count": 5,
   "id": "6aca2d72",
   "metadata": {},
   "outputs": [],
   "source": [
    "x = str(3) #x will be string here \"3\"\n",
    "y = int(3) #y will be integer here 3\n",
    "z = float(3) #z will ne floatiing value 3.0"
   ]
  },
  {
   "cell_type": "markdown",
   "id": "6be7cbe9",
   "metadata": {},
   "source": [
    "You can get data by type() function"
   ]
  },
  {
   "cell_type": "code",
   "execution_count": 6,
   "id": "8d6e36ce",
   "metadata": {},
   "outputs": [
    {
     "name": "stdout",
     "output_type": "stream",
     "text": [
      "<class 'str'>\n",
      "<class 'int'>\n",
      "<class 'float'>\n"
     ]
    }
   ],
   "source": [
    "print(type(x))\n",
    "print(type(y))\n",
    "print(type(z))"
   ]
  },
  {
   "cell_type": "markdown",
   "id": "80a55658",
   "metadata": {},
   "source": [
    "Single or Double Quotes"
   ]
  },
  {
   "cell_type": "code",
   "execution_count": 7,
   "id": "58217be2",
   "metadata": {},
   "outputs": [
    {
     "name": "stdout",
     "output_type": "stream",
     "text": [
      "John\n"
     ]
    }
   ],
   "source": [
    "x = \"John\"\n",
    "x = 'John'\n",
    "print(x)"
   ]
  },
  {
   "cell_type": "markdown",
   "id": "dcf2801a",
   "metadata": {},
   "source": [
    "Case-Sensitive = Variable names are case-sensitive"
   ]
  },
  {
   "cell_type": "code",
   "execution_count": 8,
   "id": "7b2399de",
   "metadata": {},
   "outputs": [
    {
     "name": "stdout",
     "output_type": "stream",
     "text": [
      "4\n",
      "Chaithu\n"
     ]
    }
   ],
   "source": [
    "a = 4\n",
    "A = \"Chaithu\"\n",
    "\"\"\"\n",
    "This will create two variable\n",
    "A will not overwrite a\n",
    "\"\"\"\n",
    "print(a)\n",
    "print(A)"
   ]
  },
  {
   "cell_type": "markdown",
   "id": "81e87904",
   "metadata": {},
   "source": [
    "Python-Variable Names:\n",
    "    A variable can have a short name or a more descerptive name.\n",
    "\n",
    "Rules for python variable:\n",
    "    > A variable name must start with a letter or the underscore character\n",
    "    >A variable name cannot start with a number\n",
    "    >A variable name can only contain alpha-numeric characters and underscores (A-z, 0-9, and _ )\n",
    "    >Variable names are case-sensitive (age, Age and AGE are three different variables)\n",
    "    >A variable name cannot be any of the Python keywords."
   ]
  },
  {
   "cell_type": "code",
   "execution_count": null,
   "id": "2da43728",
   "metadata": {},
   "outputs": [],
   "source": [
    "myvar = \"John\"\n",
    "my_var = \"John\"\n",
    "_my_var = 'John'\n",
    "myVar = 'John'\n",
    "MYVAR = 'John'\n",
    "myvar2 = \"John\""
   ]
  },
  {
   "cell_type": "code",
   "execution_count": null,
   "id": "fad55ebc",
   "metadata": {},
   "outputs": [],
   "source": [
    "#Illegal Variable names:\n",
    "2myvar = \"John\"\n",
    "my-var = \"John\"\n",
    "my var = \"John\""
   ]
  },
  {
   "cell_type": "code",
   "execution_count": null,
   "id": "f9b6e97c",
   "metadata": {},
   "outputs": [],
   "source": [
    "\"\"\"\n",
    "Multi Words Variable Names\n",
    "Variable names with more than one word can be difficult to read.\n",
    "\n",
    "There are several techniques you can use to make them more readable:\n",
    "\"\"\"\n",
    "#Camel Case\n",
    "myVariableName = \"John\"\n",
    "#Pascal Case\n",
    "MyVariableName = \"John\"\n",
    "#Snake Case\n",
    "my_variable_name = \"John\""
   ]
  },
  {
   "cell_type": "markdown",
   "id": "39e3a4e4",
   "metadata": {},
   "source": [
    "Python variable - Assign multiple values\n",
    "Python allows you too asign value to multiple variable in one line:"
   ]
  },
  {
   "cell_type": "code",
   "execution_count": 1,
   "id": "5c588d75",
   "metadata": {},
   "outputs": [
    {
     "name": "stdout",
     "output_type": "stream",
     "text": [
      "Orange\n",
      "Banana\n",
      "Cherry\n"
     ]
    }
   ],
   "source": [
    "x,y,z = \"Orange\", \"Banana\",\"Cherry\"\n",
    "print(x)\n",
    "print (y)\n",
    "print(z)"
   ]
  },
  {
   "cell_type": "markdown",
   "id": "9b6743ca",
   "metadata": {},
   "source": [
    "Note: Make sure the number of variables matches the number of values, or else you will get an error."
   ]
  },
  {
   "cell_type": "code",
   "execution_count": 2,
   "id": "93c9a617",
   "metadata": {},
   "outputs": [
    {
     "name": "stdout",
     "output_type": "stream",
     "text": [
      "Orange\n",
      "Orange\n",
      "Orange\n"
     ]
    }
   ],
   "source": [
    "#One Value to multi[le Variable\n",
    "x = y = z = \"Orange\"\n",
    "print(x)\n",
    "print (y)\n",
    "print(z)"
   ]
  },
  {
   "cell_type": "markdown",
   "id": "1c5d76ba",
   "metadata": {},
   "source": [
    "Unpack a Collection:\n",
    "If you have a collection of values in a list, tuple etc. Python allows you to extract the values into variables. This is called unpacking."
   ]
  },
  {
   "cell_type": "code",
   "execution_count": 3,
   "id": "01cfa53a",
   "metadata": {},
   "outputs": [
    {
     "name": "stdout",
     "output_type": "stream",
     "text": [
      "apple\n",
      "banana\n",
      "cherry\n"
     ]
    }
   ],
   "source": [
    "fruits = [\"apple\", \"banana\", \"cherry\"]\n",
    "x, y, z = fruits\n",
    "print(x)\n",
    "print(y)\n",
    "print(z)"
   ]
  },
  {
   "cell_type": "markdown",
   "id": "ae38e9a3",
   "metadata": {},
   "source": [
    "Python - Output Variables:\n",
    "The Python print() function is often used to output variables."
   ]
  },
  {
   "cell_type": "code",
   "execution_count": 1,
   "id": "a4c2cdc1",
   "metadata": {},
   "outputs": [
    {
     "name": "stdout",
     "output_type": "stream",
     "text": [
      "Python is awesome\n"
     ]
    }
   ],
   "source": [
    "x = \"Python is awesome\"\n",
    "print(x)"
   ]
  },
  {
   "cell_type": "code",
   "execution_count": null,
   "id": "4f11d0b9",
   "metadata": {},
   "outputs": [
    {
     "name": "stdout",
     "output_type": "stream",
     "text": [
      "Python is awesome\n"
     ]
    }
   ],
   "source": [
    "#In the print() function, you output multiple variables, separated by a comma:\n",
    "x= \"Python\" \n",
    "y= \"is\"\n",
    "z= \"awesome\"\n",
    "print(x,y,z)"
   ]
  },
  {
   "cell_type": "code",
   "execution_count": 7,
   "id": "3ccd1364",
   "metadata": {},
   "outputs": [
    {
     "name": "stdout",
     "output_type": "stream",
     "text": [
      "Python is awesome\n"
     ]
    }
   ],
   "source": [
    "#You can also use the + operator to output multiple variables:\n",
    "x = \"Python \"\n",
    "y = \"is \"\n",
    "z = \"awesome\"\n",
    "print(x + y + z)"
   ]
  },
  {
   "cell_type": "markdown",
   "id": "f6c70289",
   "metadata": {},
   "source": [
    "Notice the space character after \"Python \" and \"is \", without them the result would be \"Pythonisawesome\"."
   ]
  },
  {
   "cell_type": "code",
   "execution_count": 8,
   "id": "320dc148",
   "metadata": {},
   "outputs": [
    {
     "name": "stdout",
     "output_type": "stream",
     "text": [
      "15\n"
     ]
    }
   ],
   "source": [
    "#For numbers, the + character works as a mathematical operator:\n",
    "x = 5\n",
    "y = 10\n",
    "print(x + y)"
   ]
  },
  {
   "cell_type": "code",
   "execution_count": 9,
   "id": "c67a017b",
   "metadata": {},
   "outputs": [
    {
     "ename": "TypeError",
     "evalue": "unsupported operand type(s) for +: 'int' and 'str'",
     "output_type": "error",
     "traceback": [
      "\u001b[31m---------------------------------------------------------------------------\u001b[39m",
      "\u001b[31mTypeError\u001b[39m                                 Traceback (most recent call last)",
      "\u001b[36mCell\u001b[39m\u001b[36m \u001b[39m\u001b[32mIn[9]\u001b[39m\u001b[32m, line 4\u001b[39m\n\u001b[32m      2\u001b[39m x = \u001b[32m5\u001b[39m\n\u001b[32m      3\u001b[39m y = \u001b[33m\"\u001b[39m\u001b[33mJohn\u001b[39m\u001b[33m\"\u001b[39m\n\u001b[32m----> \u001b[39m\u001b[32m4\u001b[39m \u001b[38;5;28mprint\u001b[39m(\u001b[43mx\u001b[49m\u001b[43m \u001b[49m\u001b[43m+\u001b[49m\u001b[43m \u001b[49m\u001b[43my\u001b[49m)\n",
      "\u001b[31mTypeError\u001b[39m: unsupported operand type(s) for +: 'int' and 'str'"
     ]
    }
   ],
   "source": [
    "#In the print() function, when you try to combine a string and a number with the + operator, Python will give you an error:\n",
    "x = 5\n",
    "y = \"John\"\n",
    "print(x + y)"
   ]
  },
  {
   "cell_type": "code",
   "execution_count": 10,
   "id": "1f173253",
   "metadata": {},
   "outputs": [
    {
     "name": "stdout",
     "output_type": "stream",
     "text": [
      "5 John\n"
     ]
    }
   ],
   "source": [
    "#The best way to output multiple variables in the print() function is to separate them with commas, which even support different data types:\n",
    "\n",
    "x = 5\n",
    "y = \"John\"\n",
    "print(x, y)"
   ]
  },
  {
   "cell_type": "markdown",
   "id": "3ff3f532",
   "metadata": {},
   "source": [
    "Global variable:\n",
    "    >Variable that are created outside of a function are known as global vvariables.\n",
    "    >Global variables can be used by everyone, both inside of functions and outside."
   ]
  },
  {
   "cell_type": "code",
   "execution_count": 3,
   "id": "196ca3e5",
   "metadata": {},
   "outputs": [
    {
     "name": "stdout",
     "output_type": "stream",
     "text": [
      "Python is awesome\n"
     ]
    }
   ],
   "source": [
    "#Create a variable outside of a function, and use it inside the function.\n",
    "x = 'awesome'\n",
    "\n",
    "def myfunc():\n",
    "    print(\"Python is \" +x)\n",
    "\n",
    "myfunc()"
   ]
  },
  {
   "cell_type": "markdown",
   "id": "d8105882",
   "metadata": {},
   "source": [
    "If you create a variable with the same name inside a function, this variable will be local, and can only be used inside the function. The global variable with the same name will remain as it was, global and with the original value."
   ]
  },
  {
   "cell_type": "code",
   "execution_count": 4,
   "id": "b91dd4d1",
   "metadata": {},
   "outputs": [
    {
     "name": "stdout",
     "output_type": "stream",
     "text": [
      "Python is fantastic\n",
      "Python is awesome\n"
     ]
    }
   ],
   "source": [
    "#Create a variable inside a function, with the same name as the global variable.\n",
    "x = 'awesome'\n",
    "\n",
    "def myfunc():\n",
    "    x = 'fantastic'\n",
    "    print(\"Python is \" + x)\n",
    "\n",
    "myfunc()\n",
    "\n",
    "print(\"Python is \" +x)"
   ]
  },
  {
   "cell_type": "markdown",
   "id": "1654ddc1",
   "metadata": {},
   "source": [
    "The global Keyword:\n",
    "    >To create a global variable inside a function, you can use the global keyword.\n",
    "    >To create a global variable inside a function, you can use the global keyword."
   ]
  },
  {
   "cell_type": "code",
   "execution_count": 5,
   "id": "66871b06",
   "metadata": {},
   "outputs": [
    {
     "name": "stdout",
     "output_type": "stream",
     "text": [
      "Python is fantastic\n"
     ]
    }
   ],
   "source": [
    "#If you use the global keyword, the variable belongs to the global scope:\n",
    "def myfunc():\n",
    "    global x\n",
    "    x =   'fantastic'\n",
    "\n",
    "myfunc()\n",
    "\n",
    "print(\"Python is \" +x ) "
   ]
  },
  {
   "cell_type": "code",
   "execution_count": 7,
   "id": "af2ad1b3",
   "metadata": {},
   "outputs": [
    {
     "name": "stdout",
     "output_type": "stream",
     "text": [
      "Python is fantastic\n",
      "Python is fantastic\n"
     ]
    }
   ],
   "source": [
    "#use the global keyword if you want to change a global variable inside a function.\n",
    "x = \"awesome\"\n",
    "\n",
    "def myfunc():\n",
    "    global x\n",
    "    x = \"fantastic\"\n",
    "    print(\"Python is \" +x)\n",
    "\n",
    "myfunc()\n",
    "\n",
    "print(\"Python is \" +x)"
   ]
  },
  {
   "cell_type": "code",
   "execution_count": null,
   "id": "2a977259",
   "metadata": {},
   "outputs": [],
   "source": []
  }
 ],
 "metadata": {
  "kernelspec": {
   "display_name": "Python (myenv)",
   "language": "python",
   "name": "myenv"
  },
  "language_info": {
   "codemirror_mode": {
    "name": "ipython",
    "version": 3
   },
   "file_extension": ".py",
   "mimetype": "text/x-python",
   "name": "python",
   "nbconvert_exporter": "python",
   "pygments_lexer": "ipython3",
   "version": "3.13.7"
  }
 },
 "nbformat": 4,
 "nbformat_minor": 5
}
