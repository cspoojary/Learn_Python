{
 "cells": [
  {
   "cell_type": "code",
   "execution_count": 2,
   "id": "0ba5f0c6",
   "metadata": {},
   "outputs": [
    {
     "name": "stdout",
     "output_type": "stream",
     "text": [
      "Hello, World!\n"
     ]
    }
   ],
   "source": [
    "print(\"Hello, World!\")"
   ]
  },
  {
   "cell_type": "markdown",
   "id": "260c3b2d",
   "metadata": {},
   "source": [
    "Indentation important in the python, If you miss the indentation then code will encounter syntax."
   ]
  },
  {
   "cell_type": "code",
   "execution_count": 4,
   "id": "c1065077",
   "metadata": {},
   "outputs": [
    {
     "name": "stdout",
     "output_type": "stream",
     "text": [
      "Five is greater then two!\n"
     ]
    }
   ],
   "source": [
    "if 5 > 2:\n",
    "    print('Five is greater then two!')"
   ]
  },
  {
   "cell_type": "markdown",
   "id": "431d43e4",
   "metadata": {},
   "source": [
    "Python comments.\n",
    "    > Which is used to explain code , make the code more raedable and to prevent excution when testing code.\n",
    "    > Creating comment line is start with a # and python will ignore them.\n",
    "    > A comments does not have to be text that explains the code, it can also be used to prevent python from excuting code."
   ]
  },
  {
   "cell_type": "code",
   "execution_count": 8,
   "id": "e7b7622c",
   "metadata": {},
   "outputs": [
    {
     "name": "stdout",
     "output_type": "stream",
     "text": [
      "Hello,World!\n",
      "Another Example\n",
      "Cheers, Mate!\n"
     ]
    }
   ],
   "source": [
    "# This is a comment.\n",
    "print(\"Hello,World!\")\n",
    "    #OR \n",
    "print(\"Another Example\") #This is also comment.\n",
    "    #Example\n",
    "#print(\"Hello, World!\")\n",
    "print(\"Cheers, Mate!\")"
   ]
  },
  {
   "cell_type": "code",
   "execution_count": 9,
   "id": "6d358e4e",
   "metadata": {},
   "outputs": [
    {
     "name": "stdout",
     "output_type": "stream",
     "text": [
      "Chaiths on Wheel\n"
     ]
    }
   ],
   "source": [
    "#multiline comments\n",
    "\"\"\"\n",
    "This is the multiline comment, This comments written in more\n",
    "than just one line.\n",
    "\"\"\"\n",
    "print(\"Chaiths on Wheel\")"
   ]
  }
 ],
 "metadata": {
  "kernelspec": {
   "display_name": "Python (myenv)",
   "language": "python",
   "name": "myenv"
  },
  "language_info": {
   "codemirror_mode": {
    "name": "ipython",
    "version": 3
   },
   "file_extension": ".py",
   "mimetype": "text/x-python",
   "name": "python",
   "nbconvert_exporter": "python",
   "pygments_lexer": "ipython3",
   "version": "3.13.7"
  }
 },
 "nbformat": 4,
 "nbformat_minor": 5
}
